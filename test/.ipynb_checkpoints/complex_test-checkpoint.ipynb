{
 "cells": [
  {
   "cell_type": "code",
   "execution_count": 1,
   "metadata": {},
   "outputs": [
    {
     "data": {
      "text/plain": [
       "4-element Array{String,1}:\n",
       " \"@\"      \n",
       " \"@v#.#\"  \n",
       " \"@stdlib\"\n",
       " \"..\"     "
      ]
     },
     "execution_count": 1,
     "metadata": {},
     "output_type": "execute_result"
    }
   ],
   "source": [
    "push!(LOAD_PATH, \"..\")"
   ]
  },
  {
   "cell_type": "code",
   "execution_count": 2,
   "metadata": {},
   "outputs": [],
   "source": [
    "using VQC: qstate, qrandn, QCircuit, QMeasure, simple_gradient, collect_gradients\n",
    "using VQC: get_coef_sizes_1d, variational_circuit_1d, nparameters, distance, StateVector\n",
    "using VQC: reset_parameters!"
   ]
  },
  {
   "cell_type": "code",
   "execution_count": 3,
   "metadata": {},
   "outputs": [
    {
     "data": {
      "text/plain": [
       "StateVector{Complex{Float64}}(Complex{Float64}[1.0+0.0im, 0.0+0.0im, 0.0+0.0im, 0.0+0.0im, 0.0+0.0im, 0.0+0.0im, 0.0+0.0im, 0.0+0.0im, 0.0+0.0im, 0.0+0.0im  …  0.0+0.0im, 0.0+0.0im, 0.0+0.0im, 0.0+0.0im, 0.0+0.0im, 0.0+0.0im, 0.0+0.0im, 0.0+0.0im, 0.0+0.0im, 0.0+0.0im])"
      ]
     },
     "execution_count": 3,
     "metadata": {},
     "output_type": "execute_result"
    }
   ],
   "source": [
    "L = 5\n",
    "\n",
    "depth = 5\n",
    "\n",
    "target_state = qrandn(Complex{Float64}, L)\n",
    "\n",
    "initial_state = qstate(Complex{Float64}, L)"
   ]
  },
  {
   "cell_type": "code",
   "execution_count": 4,
   "metadata": {},
   "outputs": [
    {
     "data": {
      "text/plain": [
       "QCircuit(VQC.AbstractQuantumOperation[RyGate{Variable{Float64}}(1, Variable{Float64}(1.06277)), RyGate{Variable{Float64}}(2, Variable{Float64}(1.44432)), RyGate{Variable{Float64}}(3, Variable{Float64}(1.40484)), RyGate{Variable{Float64}}(4, Variable{Float64}(-0.504793)), RyGate{Variable{Float64}}(5, Variable{Float64}(-0.649392)), CRzGate{Variable{Float64}}((1, 2), Variable{Float64}(-0.373524), [1, 2, 3, 4]), CRzGate{Variable{Float64}}((2, 3), Variable{Float64}(0.153376), [1, 2, 3, 4]), CRzGate{Variable{Float64}}((3, 4), Variable{Float64}(0.677582), [1, 2, 3, 4]), CRzGate{Variable{Float64}}((4, 5), Variable{Float64}(-1.26689), [1, 2, 3, 4]), RyGate{Variable{Float64}}(1, Variable{Float64}(0.562935))  …  RyGate{Variable{Float64}}(5, Variable{Float64}(-1.03531)), CRzGate{Variable{Float64}}((1, 2), Variable{Float64}(-1.65874), [1, 2, 3, 4]), CRzGate{Variable{Float64}}((2, 3), Variable{Float64}(-0.24522), [1, 2, 3, 4]), CRzGate{Variable{Float64}}((3, 4), Variable{Float64}(1.51727), [1, 2, 3, 4]), CRzGate{Variable{Float64}}((4, 5), Variable{Float64}(-1.47085), [1, 2, 3, 4]), RyGate{Variable{Float64}}(1, Variable{Float64}(0.951151)), RyGate{Variable{Float64}}(2, Variable{Float64}(1.27858)), RyGate{Variable{Float64}}(3, Variable{Float64}(0.853483)), RyGate{Variable{Float64}}(4, Variable{Float64}(0.949416)), RyGate{Variable{Float64}}(5, Variable{Float64}(-0.609227))])"
      ]
     },
     "execution_count": 4,
     "metadata": {},
     "output_type": "execute_result"
    }
   ],
   "source": [
    "x0 = randn(get_coef_sizes_1d(L, depth))\n",
    "circuit =  variational_circuit_1d(L, depth, x0)"
   ]
  },
  {
   "cell_type": "code",
   "execution_count": 5,
   "metadata": {},
   "outputs": [
    {
     "data": {
      "text/plain": [
       "loss_1 (generic function with 1 method)"
      ]
     },
     "execution_count": 5,
     "metadata": {},
     "output_type": "execute_result"
    }
   ],
   "source": [
    "loss(x) = distance(target_state, circuit * x)\n",
    "loss_1(x) = loss(StateVector(x))"
   ]
  },
  {
   "cell_type": "code",
   "execution_count": 6,
   "metadata": {},
   "outputs": [
    {
     "name": "stdout",
     "output_type": "stream",
     "text": [
      "number of parameters 32\n"
     ]
    }
   ],
   "source": [
    "println(\"number of parameters $(length(initial_state))\")"
   ]
  },
  {
   "cell_type": "code",
   "execution_count": 7,
   "metadata": {},
   "outputs": [
    {
     "name": "stdout",
     "output_type": "stream",
     "text": [
      "  9.322106 seconds (23.12 M allocations: 1.010 GiB, 7.08% gc time)\n",
      "Complex{Float64}[0.722244+0.162995im, 0.0303603-0.0138841im, 0.133571-0.186792im, 0.0669167-0.210323im, 0.0711628-0.0629864im, 0.145892+0.104102im, -0.0406197-0.199205im, -0.0536944+0.0143809im, -0.0856497-0.219125im, 0.0456363+0.0981493im, 0.0717211-0.0205144im, -0.123934+0.0359008im, -0.00537778+0.0432693im, 0.153423-0.125187im, 0.115901+0.0476566im, -0.0037101-0.0885386im, 0.0665115+0.00654645im, -0.0211596-0.0385109im, -0.0114591-0.0465668im, 0.0249178+0.0533155im, 0.000982031+0.102447im, 0.00751336+0.0433886im, -0.0300454-0.0529882im, 0.0414824-0.0491125im, 0.0166268+0.00500761im, -0.0759262-0.0448966im, 0.166454+0.0325991im, 0.0519842-0.03902im, -0.000602273+0.0552528im, -0.0908535+0.0806922im, 0.0597419-0.117144im, -0.01538+0.029176im]\n"
     ]
    }
   ],
   "source": [
    "s_0 = initial_state.data\n",
    "@time grad1 = simple_gradient(loss_1, s_0)\n",
    "println(collect_gradients(grad1))"
   ]
  },
  {
   "cell_type": "code",
   "execution_count": 9,
   "metadata": {},
   "outputs": [
    {
     "name": "stdout",
     "output_type": "stream",
     "text": [
      " 11.299577 seconds (19.71 M allocations: 926.073 MiB, 4.71% gc time)\n",
      "Complex{Float64}[0.722242+0.162992im, 0.0303568-0.0138876im, 0.133568-0.186795im, 0.0669133-0.210327im, 0.0711593-0.0629899im, 0.145888+0.104099im, -0.0406231-0.199208im, -0.0536979+0.0143775im, -0.0856531-0.219129im, 0.0456328+0.0981459im, 0.0717177-0.0205178im, -0.123937+0.0358973im, -0.00538124+0.0432659im, 0.153419-0.12519im, 0.115897+0.0476532im, -0.00371356-0.088542im, 0.066508+0.00654298im, -0.0211631-0.0385144im, -0.0114625-0.0465703im, 0.0249144+0.053312im, 0.00097857+0.102444im, 0.0075099+0.0433851im, -0.0300489-0.0529916im, 0.0414789-0.0491159im, 0.0166234+0.00500415im, -0.0759296-0.0449im, 0.166451+0.0325956im, 0.0519807-0.0390235im, -0.000605735+0.0552493im, -0.0908569+0.0806888im, 0.0597384-0.117147im, -0.0153835+0.0291725im]\n"
     ]
    }
   ],
   "source": [
    "using Zygote\n",
    "\n",
    "@time grad = gradient(loss, initial_state)\n",
    "println(collect_gradients(grad))"
   ]
  }
 ],
 "metadata": {
  "kernelspec": {
   "display_name": "Julia 1.1.1",
   "language": "julia",
   "name": "julia-1.1"
  },
  "language_info": {
   "file_extension": ".jl",
   "mimetype": "application/julia",
   "name": "julia",
   "version": "1.1.1"
  }
 },
 "nbformat": 4,
 "nbformat_minor": 2
}
