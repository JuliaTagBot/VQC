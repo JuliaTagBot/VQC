{
 "cells": [
  {
   "cell_type": "code",
   "execution_count": 1,
   "metadata": {},
   "outputs": [
    {
     "data": {
      "text/plain": [
       "4-element Array{String,1}:\n",
       " \"@\"                                                              \n",
       " \"@v#.#\"                                                          \n",
       " \"@stdlib\"                                                        \n",
       " \"/Users/guochu/Documents/QuantumSimulator/qi-variational-circuit\""
      ]
     },
     "execution_count": 1,
     "metadata": {},
     "output_type": "execute_result"
    }
   ],
   "source": [
    "push!(LOAD_PATH, \"/Users/guochu/Documents/QuantumSimulator/qi-variational-circuit\")"
   ]
  },
  {
   "cell_type": "markdown",
   "metadata": {},
   "source": [
    "# Part 1: Quantum State"
   ]
  },
  {
   "cell_type": "markdown",
   "metadata": {},
   "source": [
    "1. create an initial quantum state of 2 qubits |00>"
   ]
  },
  {
   "cell_type": "code",
   "execution_count": 2,
   "metadata": {},
   "outputs": [
    {
     "data": {
      "text/plain": [
       "StateVector{Complex{Float64}}(Complex{Float64}[1.0 + 0.0im, 0.0 + 0.0im, 0.0 + 0.0im, 0.0 + 0.0im])"
      ]
     },
     "execution_count": 2,
     "metadata": {},
     "output_type": "execute_result"
    }
   ],
   "source": [
    "using VQC\n",
    "state = qstate([0,0])\n",
    "# all the amplitudes of the state"
   ]
  },
  {
   "cell_type": "markdown",
   "metadata": {},
   "source": [
    "output all the amplitudes/probabilities of the quantum state"
   ]
  },
  {
   "cell_type": "code",
   "execution_count": 3,
   "metadata": {},
   "outputs": [
    {
     "name": "stdout",
     "output_type": "stream",
     "text": [
      "Complex{Float64}[1.0 + 0.0im, 0.0 + 0.0im, 0.0 + 0.0im, 0.0 + 0.0im]\n",
      "[1.0, 0.0, 0.0, 0.0]\n"
     ]
    }
   ],
   "source": [
    "println(amplitudes(state))\n",
    "println(probabilities(state))"
   ]
  },
  {
   "cell_type": "markdown",
   "metadata": {},
   "source": [
    "another way of creating a 2-qubits quantum state which are all initialized to be 0"
   ]
  },
  {
   "cell_type": "code",
   "execution_count": 4,
   "metadata": {},
   "outputs": [
    {
     "data": {
      "text/plain": [
       "4-element Array{Complex{Float64},1}:\n",
       " 1.0 + 0.0im\n",
       " 0.0 + 0.0im\n",
       " 0.0 + 0.0im\n",
       " 0.0 + 0.0im"
      ]
     },
     "execution_count": 4,
     "metadata": {},
     "output_type": "execute_result"
    }
   ],
   "source": [
    "state = qstate(2)\n",
    "amplitudes(state)"
   ]
  },
  {
   "cell_type": "markdown",
   "metadata": {},
   "source": [
    "2. create an initial quantum state of 2 qubits |01>"
   ]
  },
  {
   "cell_type": "code",
   "execution_count": 5,
   "metadata": {
    "scrolled": true
   },
   "outputs": [
    {
     "data": {
      "text/plain": [
       "4-element Array{Complex{Float64},1}:\n",
       " 6.123233995736766e-17 + 0.0im\n",
       "                   0.0 + 0.0im\n",
       "                   1.0 + 0.0im\n",
       "                   0.0 + 0.0im"
      ]
     },
     "execution_count": 5,
     "metadata": {},
     "output_type": "execute_result"
    }
   ],
   "source": [
    "state = qstate([0,1])\n",
    "amplitudes(state)"
   ]
  },
  {
   "cell_type": "markdown",
   "metadata": {},
   "source": [
    "output one amplitude or probability of the quantum state"
   ]
  },
  {
   "cell_type": "code",
   "execution_count": 6,
   "metadata": {},
   "outputs": [
    {
     "name": "stdout",
     "output_type": "stream",
     "text": [
      "6.123233995736766e-17 + 0.0im 0.0 + 0.0im 1.0 + 0.0im 0.0 + 0.0im\n",
      "3.749399456654644e-33 0.0 1.0 0.0\n"
     ]
    }
   ],
   "source": [
    "print(amplitude(state, [0,0]), ' ', amplitude(state, [1,0]), ' ', \n",
    "    amplitude(state, [0,1]), ' ', amplitude(state, [1,1]), '\\n')\n",
    "print(probability(state, [0,0]), ' ', probability(state, [1,0]), ' ', \n",
    "    probability(state, [0,1]), ' ', probability(state, [1,1]), '\\n')"
   ]
  },
  {
   "cell_type": "markdown",
   "metadata": {},
   "source": [
    "3. create a random quantum state on 2 qubits"
   ]
  },
  {
   "cell_type": "code",
   "execution_count": 7,
   "metadata": {},
   "outputs": [
    {
     "name": "stdout",
     "output_type": "stream",
     "text": [
      "Complex{Float64}[-0.03021442054076439 + 0.04439616684057201im, -0.46084274631883976 - 0.05677465175516618im, 0.1325419072248086 + 0.7563073396512731im, -0.3628527166851069 + 0.24553294699021705im]\n",
      "[0.0028839308387500714, 0.21559939791661092, 0.5895681491811761, 0.19194852206346316]\n"
     ]
    }
   ],
   "source": [
    "state = qrandn(2)\n",
    "println(amplitudes(state))\n",
    "println(probabilities(state))"
   ]
  },
  {
   "cell_type": "markdown",
   "metadata": {},
   "source": [
    "# Part 2: Quantum Circuit"
   ]
  },
  {
   "cell_type": "markdown",
   "metadata": {},
   "source": [
    "1. initialize an empty quantum circuit"
   ]
  },
  {
   "cell_type": "code",
   "execution_count": 8,
   "metadata": {},
   "outputs": [
    {
     "data": {
      "text/plain": [
       "QCircuit(VQC.AbstractQuantumOperation[])"
      ]
     },
     "execution_count": 8,
     "metadata": {},
     "output_type": "execute_result"
    }
   ],
   "source": [
    "circuit = QCircuit()"
   ]
  },
  {
   "cell_type": "markdown",
   "metadata": {},
   "source": [
    "2. various equivalent ways of adding gate operations"
   ]
  },
  {
   "cell_type": "code",
   "execution_count": 9,
   "metadata": {},
   "outputs": [
    {
     "name": "stdout",
     "output_type": "stream",
     "text": [
      "QCircuit(VQC.AbstractQuantumOperation[OneBodyGate{Array{Float64,2}}(1, [0.7071067811865475 0.7071067811865475; 0.7071067811865475 -0.7071067811865475]), TwoBodyGate{PermutedDimsArray{Float64,4,(1, 2, 3, 4),(1, 2, 3, 4),Array{Float64,4}}}((1, 3), [1.0 0.0; 0.0 0.0]\n",
      "\n",
      "[0.0 0.0; 0.0 1.0]\n",
      "\n",
      "[0.0 1.0; 0.0 0.0]\n",
      "\n",
      "[0.0 0.0; 1.0 0.0])])\n"
     ]
    }
   ],
   "source": [
    "push!(circuit, (1, H))\n",
    "push!(circuit, ((1,3), CNOT))\n",
    "println(circuit)"
   ]
  },
  {
   "cell_type": "code",
   "execution_count": 10,
   "metadata": {},
   "outputs": [
    {
     "data": {
      "text/plain": [
       "2-element Array{VQC.AbstractQuantumOperation,1}:\n",
       " OneBodyGate{Array{Float64,2}}(1, [0.7071067811865475 0.7071067811865475; 0.7071067811865475 -0.7071067811865475])                                                           \n",
       " TwoBodyGate{PermutedDimsArray{Float64,4,(1, 2, 3, 4),(1, 2, 3, 4),Array{Float64,4}}}((1, 3), [1.0 0.0; 0.0 0.0]\n",
       "\n",
       "[0.0 0.0; 0.0 1.0]\n",
       "\n",
       "[0.0 1.0; 0.0 0.0]\n",
       "\n",
       "[0.0 0.0; 1.0 0.0])"
      ]
     },
     "execution_count": 10,
     "metadata": {},
     "output_type": "execute_result"
    }
   ],
   "source": [
    "empty!(circuit)\n",
    "push!(circuit, gate(1, H))\n",
    "push!(circuit, gate((1,3), CNOT))"
   ]
  },
  {
   "cell_type": "code",
   "execution_count": 11,
   "metadata": {},
   "outputs": [
    {
     "data": {
      "text/plain": [
       "2-element Array{VQC.AbstractQuantumOperation,1}:\n",
       " OneBodyGate{Array{Float64,2}}(1, [0.7071067811865475 0.7071067811865475; 0.7071067811865475 -0.7071067811865475])                                                           \n",
       " TwoBodyGate{PermutedDimsArray{Float64,4,(1, 2, 3, 4),(1, 2, 3, 4),Array{Float64,4}}}((1, 3), [1.0 0.0; 0.0 0.0]\n",
       "\n",
       "[0.0 0.0; 0.0 1.0]\n",
       "\n",
       "[0.0 1.0; 0.0 0.0]\n",
       "\n",
       "[0.0 0.0; 1.0 0.0])"
      ]
     },
     "execution_count": 11,
     "metadata": {},
     "output_type": "execute_result"
    }
   ],
   "source": [
    "empty!(circuit)\n",
    "push!(circuit, HGate(1))\n",
    "push!(circuit, CNOTGate((1,3)))"
   ]
  },
  {
   "cell_type": "markdown",
   "metadata": {},
   "source": [
    "# Part 3: Generating an entangled Bell State"
   ]
  },
  {
   "cell_type": "markdown",
   "metadata": {},
   "source": [
    "## create a two qubit bell state $|\\psi> = |00> + |11>$"
   ]
  },
  {
   "cell_type": "code",
   "execution_count": 12,
   "metadata": {},
   "outputs": [
    {
     "data": {
      "text/plain": [
       "2-element Array{VQC.AbstractQuantumOperation,1}:\n",
       " OneBodyGate{Array{Float64,2}}(1, [0.7071067811865475 0.7071067811865475; 0.7071067811865475 -0.7071067811865475])                                                           \n",
       " TwoBodyGate{PermutedDimsArray{Float64,4,(1, 2, 3, 4),(1, 2, 3, 4),Array{Float64,4}}}((1, 2), [1.0 0.0; 0.0 0.0]\n",
       "\n",
       "[0.0 0.0; 0.0 1.0]\n",
       "\n",
       "[0.0 1.0; 0.0 0.0]\n",
       "\n",
       "[0.0 0.0; 1.0 0.0])"
      ]
     },
     "execution_count": 12,
     "metadata": {},
     "output_type": "execute_result"
    }
   ],
   "source": [
    "psi = qstate(2)\n",
    "circuit = QCircuit()\n",
    "push!(circuit, (1, H))\n",
    "push!(circuit, ((1, 2), CNOT))"
   ]
  },
  {
   "cell_type": "markdown",
   "metadata": {},
   "source": [
    "## Apply circuit (list of gate operations) to the quantum and get the probabilities"
   ]
  },
  {
   "cell_type": "code",
   "execution_count": 13,
   "metadata": {},
   "outputs": [
    {
     "name": "stdout",
     "output_type": "stream",
     "text": [
      "Bell state amplitudes: [0.4999999999999999, 0.0, 0.0, 0.4999999999999999]\n"
     ]
    }
   ],
   "source": [
    "apply!(circuit, psi)\n",
    "probs = probabilities(psi)\n",
    "print(\"Bell state amplitudes: \", probs, '\\n')"
   ]
  },
  {
   "cell_type": "markdown",
   "metadata": {},
   "source": [
    "adding quantum measurements"
   ]
  },
  {
   "cell_type": "code",
   "execution_count": 14,
   "metadata": {},
   "outputs": [
    {
     "data": {
      "text/plain": [
       "4-element Observables:\n",
       " (\"Q:Z1\", 0)                    \n",
       " (\"C:Z1->0\", 0.4999999999999999)\n",
       " (\"Q:Z2\", 0)                    \n",
       " (\"C:Z2->0\", 1.0)               "
      ]
     },
     "execution_count": 14,
     "metadata": {},
     "output_type": "execute_result"
    }
   ],
   "source": [
    "psi = qstate([0,0])\n",
    "push!(circuit, QMeasure(1))\n",
    "push!(circuit, QMeasure(2))\n",
    "results = apply!(circuit, psi)"
   ]
  },
  {
   "cell_type": "markdown",
   "metadata": {},
   "source": [
    "# Part 4: Variational Quantum Circuit"
   ]
  },
  {
   "cell_type": "markdown",
   "metadata": {},
   "source": [
    "## Training a variational quantum circuit to approximate a given quantum state"
   ]
  },
  {
   "cell_type": "code",
   "execution_count": 15,
   "metadata": {},
   "outputs": [],
   "source": [
    "circuit = QCircuit()\n",
    "for i in 1:3\n",
    "    push!(circuit, RxGate(i, Variable(randn())))\n",
    "end\n",
    "for i in 1:2\n",
    "    push!(circuit, ((i, i+1), CNOT))\n",
    "end\n",
    "for i in 1:3\n",
    "    push!(circuit, RxGate(i, Variable(randn())))\n",
    "end"
   ]
  },
  {
   "cell_type": "code",
   "execution_count": 16,
   "metadata": {},
   "outputs": [
    {
     "data": {
      "text/plain": [
       "StateVector{Complex{Float64}}(Complex{Float64}[0.7071067811865475 + 0.0im, 2.6512257811776554e-33 + 0.0im, 2.6512257811776554e-33 + 0.0im, 4.3297802811774664e-17 + 0.0im, 2.6512257811776554e-33 + 0.0im, 4.3297802811774664e-17 + 0.0im, 4.3297802811774664e-17 + 0.0im, 0.7071067811865475 + 0.0im])"
      ]
     },
     "execution_count": 16,
     "metadata": {},
     "output_type": "execute_result"
    }
   ],
   "source": [
    "target_state = (qstate([0,0,0]) + qstate([1,1,1])) / sqrt(2)"
   ]
  },
  {
   "cell_type": "code",
   "execution_count": 17,
   "metadata": {},
   "outputs": [
    {
     "data": {
      "text/plain": [
       "StateVector{Complex{Float64}}(Complex{Float64}[1.0 + 0.0im, 0.0 + 0.0im, 0.0 + 0.0im, 0.0 + 0.0im, 0.0 + 0.0im, 0.0 + 0.0im, 0.0 + 0.0im, 0.0 + 0.0im])"
      ]
     },
     "execution_count": 17,
     "metadata": {},
     "output_type": "execute_result"
    }
   ],
   "source": [
    "initial_state = qstate([0,0,0])"
   ]
  },
  {
   "cell_type": "markdown",
   "metadata": {},
   "source": [
    "## Loss function"
   ]
  },
  {
   "cell_type": "code",
   "execution_count": 18,
   "metadata": {},
   "outputs": [
    {
     "data": {
      "text/plain": [
       "loss (generic function with 1 method)"
      ]
     },
     "execution_count": 18,
     "metadata": {},
     "output_type": "execute_result"
    }
   ],
   "source": [
    "loss(c) = distance(target_state, c * initial_state)"
   ]
  },
  {
   "cell_type": "code",
   "execution_count": 19,
   "metadata": {},
   "outputs": [
    {
     "name": "stdout",
     "output_type": "stream",
     "text": [
      "loss at step 50 is 1.4232171435530512\n",
      "loss at step 100 is 1.4037787399902277\n",
      "loss at step 150 is 1.384409109985419\n",
      "loss at step 200 is 1.3609362661325448\n",
      "loss at step 250 is 1.330725475222825\n",
      "loss at step 300 is 1.29637872597851\n",
      "loss at step 350 is 1.2611403458483055\n",
      "loss at step 400 is 1.2287127099347326\n",
      "loss at step 450 is 1.201151244624013\n",
      "loss at step 500 is 1.1758661413731497\n",
      "loss at step 550 is 1.1484465725040816\n",
      "loss at step 600 is 1.114505590555682\n",
      "loss at step 650 is 1.0773618900592943\n",
      "loss at step 700 is 1.041005219553567\n",
      "loss at step 750 is 1.0081528280722223\n",
      "loss at step 800 is 0.979922549326104\n",
      "loss at step 850 is 0.953740552228845\n",
      "loss at step 900 is 0.9296079022849324\n",
      "loss at step 950 is 0.907427426674436\n",
      "loss at step 1000 is 0.8863854675364365\n"
     ]
    },
    {
     "data": {
      "text/plain": [
       "6-element Array{Float64,1}:\n",
       "  0.0002959569194290485\n",
       " -0.18256487355729611  \n",
       "  0.2630716554799538   \n",
       "  0.18412068490752753  \n",
       " -0.5381545369388057   \n",
       " -0.2620056409312249   "
      ]
     },
     "execution_count": 19,
     "metadata": {},
     "output_type": "execute_result"
    }
   ],
   "source": [
    "using Zygote\n",
    "using Flux.Optimise\n",
    "\n",
    "opt = ADAM()\n",
    "\n",
    "function train(epochs)\n",
    "    for i in 1:epochs\n",
    "        grad = collect_gradients(gradient(loss, circuit))\n",
    "        paras = parameters(circuit)\n",
    "        Optimise.update!(opt, paras, grad)\n",
    "        set_parameters!(paras, circuit)\n",
    "        if i % 50 == 0\n",
    "            println(\"loss at step $i is $(loss(circuit))\")\n",
    "        end\n",
    "    end\n",
    "    return parameters(circuit)\n",
    "end\n",
    "\n",
    "epochs = 1000\n",
    "\n",
    "train(epochs)\n"
   ]
  },
  {
   "cell_type": "markdown",
   "metadata": {},
   "source": [
    "## adding more variables"
   ]
  },
  {
   "cell_type": "code",
   "execution_count": 20,
   "metadata": {},
   "outputs": [
    {
     "name": "stdout",
     "output_type": "stream",
     "text": [
      "loss at step 50 is 0.9650618587222027\n",
      "loss at step 100 is 0.7978885335513498\n",
      "loss at step 150 is 0.7655298623286887\n",
      "loss at step 200 is 0.7653731357365962\n",
      "loss at step 250 is 0.765373138291086\n",
      "loss at step 300 is 0.7653731408436676\n",
      "loss at step 350 is 0.7653731433943634\n",
      "loss at step 400 is 0.7653731459431946\n",
      "loss at step 450 is 0.7653731484901838\n",
      "loss at step 500 is 0.7653731510353493\n",
      "loss at step 550 is 0.7653731535787116\n",
      "loss at step 600 is 0.7653731561202888\n",
      "loss at step 650 is 0.7653731586600985\n",
      "loss at step 700 is 0.7653731611981578\n",
      "loss at step 750 is 0.765373163734483\n",
      "loss at step 800 is 0.7653731662690897\n",
      "loss at step 850 is 0.7653731688019939\n",
      "loss at step 900 is 0.7653731713332095\n",
      "loss at step 950 is 0.7653731738627517\n",
      "loss at step 1000 is 0.7653731763906334\n"
     ]
    },
    {
     "data": {
      "text/plain": [
       "21-element Array{Float64,1}:\n",
       "  0.10029623575300689\n",
       " -0.08256459472371833\n",
       "  0.36508321189239445\n",
       "  0.11612402233637414\n",
       " -0.3841528573288732 \n",
       " -0.15999408451878444\n",
       " -0.7856035896625324 \n",
       " -0.3512803114020328 \n",
       " -1.4691178483038034 \n",
       "  0.845176228050575  \n",
       "  0.15662219090890314\n",
       "  2.7974891063672973 \n",
       " -0.6384212877065044 \n",
       " -0.0754826924073308 \n",
       "  0.7267304406671558 \n",
       " -0.11542769533424196\n",
       " -0.1936695975405857 \n",
       " -0.9581860928091951 \n",
       "  1.2083289519457083 \n",
       "  1.0441885108817117 \n",
       " -2.1467359213448063 "
      ]
     },
     "execution_count": 20,
     "metadata": {},
     "output_type": "execute_result"
    }
   ],
   "source": [
    "depth = 5\n",
    "for i in 1:depth\n",
    "    for i in 1:2\n",
    "        push!(circuit, ((i, i+1), CNOT))\n",
    "    end\n",
    "    for i in 1:3\n",
    "        push!(circuit, RxGate(i, Variable(randn())))\n",
    "    end\n",
    "end\n",
    "\n",
    "epochs = 1000\n",
    "train(epochs)"
   ]
  },
  {
   "cell_type": "markdown",
   "metadata": {},
   "source": [
    "### result is not so good, try adding RyGate?"
   ]
  },
  {
   "cell_type": "code",
   "execution_count": 21,
   "metadata": {},
   "outputs": [
    {
     "name": "stdout",
     "output_type": "stream",
     "text": [
      "loss at step 50 is 1.288285792781135\n",
      "loss at step 100 is 1.1408342530719036\n",
      "loss at step 150 is 1.0071011756046448\n",
      "loss at step 200 is 0.858014505586502\n",
      "loss at step 250 is 0.7210577375051165\n",
      "loss at step 300 is 0.6192776261698094\n",
      "loss at step 350 is 0.5142461189188275\n",
      "loss at step 400 is 0.4015151363381813\n",
      "loss at step 450 is 0.28345092561780977\n",
      "loss at step 500 is 0.16596244318927045\n",
      "loss at step 550 is 0.05246006890635442\n",
      "loss at step 600 is 0.0050139505901018525\n",
      "loss at step 650 is 0.005013948473903354\n",
      "loss at step 700 is 0.00501394635768182\n",
      "loss at step 750 is 0.005013944241614392\n",
      "loss at step 800 is 0.005013942125612499\n",
      "loss at step 850 is 0.0050139400096761415\n",
      "loss at step 900 is 0.005013937893805318\n",
      "loss at step 950 is 0.005013935778022174\n",
      "loss at step 1000 is 0.0050139336622602795\n"
     ]
    },
    {
     "data": {
      "text/plain": [
       "24-element Array{Float64,1}:\n",
       " -0.023702864603173026 \n",
       " -0.02056515109074141  \n",
       "  0.37308349749744546  \n",
       "  0.11612282811599547  \n",
       " -0.7681507056964062   \n",
       " -0.151993798913733    \n",
       " -0.21160374605566312  \n",
       " -0.2892808677690544   \n",
       " -1.4611175626987514   \n",
       "  0.7851761575730938   \n",
       " -0.2273756574586292   \n",
       "  2.805489391972381    \n",
       " -0.7624203880626852   \n",
       " -0.013483248774353893 \n",
       "  0.7347307262722022   \n",
       " -0.11542888955462019  \n",
       " -0.5776674459081178   \n",
       " -0.9501858072041488   \n",
       "  1.7823287955525795   \n",
       "  1.1061879545146776   \n",
       " -2.138735635739723    \n",
       "  0.000266402491761299 \n",
       "  0.7851402673551123   \n",
       " -0.0008123664012413528"
      ]
     },
     "execution_count": 21,
     "metadata": {},
     "output_type": "execute_result"
    }
   ],
   "source": [
    "for i in 1:2\n",
    "    push!(circuit, ((i, i+1), CNOT))\n",
    "end\n",
    "for i in 1:3\n",
    "    push!(circuit, RyGate(i, Variable(randn())))\n",
    "end\n",
    "train(epochs)"
   ]
  },
  {
   "cell_type": "markdown",
   "metadata": {},
   "source": [
    "# Part 5: Quantum Born Machine"
   ]
  },
  {
   "cell_type": "code",
   "execution_count": 22,
   "metadata": {},
   "outputs": [
    {
     "data": {
      "text/plain": [
       "10-element Array{Array{Int64,1},1}:\n",
       " [1, 1, 0, 1, 1]\n",
       " [1, 0, 1, 0, 1]\n",
       " [1, 0, 0, 0, 1]\n",
       " [1, 1, 1, 0, 1]\n",
       " [1, 0, 0, 0, 0]\n",
       " [1, 0, 1, 1, 0]\n",
       " [0, 0, 1, 0, 0]\n",
       " [0, 1, 1, 0, 0]\n",
       " [0, 0, 0, 1, 0]\n",
       " [0, 0, 1, 1, 0]"
      ]
     },
     "execution_count": 22,
     "metadata": {},
     "output_type": "execute_result"
    }
   ],
   "source": [
    "L = 5\n",
    "N = 10\n",
    "cdata = [rand(0:1, 5) for _ in 1:N]"
   ]
  },
  {
   "cell_type": "markdown",
   "metadata": {},
   "source": [
    "convert classical data into quanutm data, using $\\theta \\rightarrow [\\cos(\\theta), \\sin(\\theta)]$"
   ]
  },
  {
   "cell_type": "code",
   "execution_count": 23,
   "metadata": {},
   "outputs": [
    {
     "data": {
      "text/plain": [
       "10-element Array{StateVector{Complex{Float64}},1}:\n",
       " StateVector{Complex{Float64}}(Complex{Float64}[1.405799628556214e-65 + 0.0im, 2.2958450216584675e-49 + 0.0im, 2.2958450216584675e-49 + 0.0im, 3.749399456654644e-33 + 0.0im, 0.0 + 0.0im, 0.0 + 0.0im, 0.0 + 0.0im, 0.0 + 0.0im, 2.2958450216584675e-49 + 0.0im, 3.749399456654644e-33 + 0.0im  …  0.0 + 0.0im, 0.0 + 0.0im, 3.749399456654644e-33 + 0.0im, 6.123233995736766e-17 + 0.0im, 6.123233995736766e-17 + 0.0im, 1.0 + 0.0im, 0.0 + 0.0im, 0.0 + 0.0im, 0.0 + 0.0im, 0.0 + 0.0im])\n",
       " StateVector{Complex{Float64}}(Complex{Float64}[2.2958450216584675e-49 + 0.0im, 3.749399456654644e-33 + 0.0im, 0.0 + 0.0im, 0.0 + 0.0im, 3.749399456654644e-33 + 0.0im, 6.123233995736766e-17 + 0.0im, 0.0 + 0.0im, 0.0 + 0.0im, 0.0 + 0.0im, 0.0 + 0.0im  …  0.0 + 0.0im, 0.0 + 0.0im, 0.0 + 0.0im, 0.0 + 0.0im, 0.0 + 0.0im, 0.0 + 0.0im, 0.0 + 0.0im, 0.0 + 0.0im, 0.0 + 0.0im, 0.0 + 0.0im])                                                                                            \n",
       " StateVector{Complex{Float64}}(Complex{Float64}[3.749399456654644e-33 + 0.0im, 6.123233995736766e-17 + 0.0im, 0.0 + 0.0im, 0.0 + 0.0im, 0.0 + 0.0im, 0.0 + 0.0im, 0.0 + 0.0im, 0.0 + 0.0im, 0.0 + 0.0im, 0.0 + 0.0im  …  0.0 + 0.0im, 0.0 + 0.0im, 0.0 + 0.0im, 0.0 + 0.0im, 0.0 + 0.0im, 0.0 + 0.0im, 0.0 + 0.0im, 0.0 + 0.0im, 0.0 + 0.0im, 0.0 + 0.0im])                                                                                                                                 \n",
       " StateVector{Complex{Float64}}(Complex{Float64}[1.405799628556214e-65 + 0.0im, 2.2958450216584675e-49 + 0.0im, 2.2958450216584675e-49 + 0.0im, 3.749399456654644e-33 + 0.0im, 2.2958450216584675e-49 + 0.0im, 3.749399456654644e-33 + 0.0im, 3.749399456654644e-33 + 0.0im, 6.123233995736766e-17 + 0.0im, 0.0 + 0.0im, 0.0 + 0.0im  …  6.123233995736766e-17 + 0.0im, 1.0 + 0.0im, 0.0 + 0.0im, 0.0 + 0.0im, 0.0 + 0.0im, 0.0 + 0.0im, 0.0 + 0.0im, 0.0 + 0.0im, 0.0 + 0.0im, 0.0 + 0.0im])\n",
       " StateVector{Complex{Float64}}(Complex{Float64}[6.123233995736766e-17 + 0.0im, 1.0 + 0.0im, 0.0 + 0.0im, 0.0 + 0.0im, 0.0 + 0.0im, 0.0 + 0.0im, 0.0 + 0.0im, 0.0 + 0.0im, 0.0 + 0.0im, 0.0 + 0.0im  …  0.0 + 0.0im, 0.0 + 0.0im, 0.0 + 0.0im, 0.0 + 0.0im, 0.0 + 0.0im, 0.0 + 0.0im, 0.0 + 0.0im, 0.0 + 0.0im, 0.0 + 0.0im, 0.0 + 0.0im])                                                                                                                                                   \n",
       " StateVector{Complex{Float64}}(Complex{Float64}[2.2958450216584675e-49 + 0.0im, 3.749399456654644e-33 + 0.0im, 0.0 + 0.0im, 0.0 + 0.0im, 3.749399456654644e-33 + 0.0im, 6.123233995736766e-17 + 0.0im, 0.0 + 0.0im, 0.0 + 0.0im, 3.749399456654644e-33 + 0.0im, 6.123233995736766e-17 + 0.0im  …  0.0 + 0.0im, 0.0 + 0.0im, 0.0 + 0.0im, 0.0 + 0.0im, 0.0 + 0.0im, 0.0 + 0.0im, 0.0 + 0.0im, 0.0 + 0.0im, 0.0 + 0.0im, 0.0 + 0.0im])                                                        \n",
       " StateVector{Complex{Float64}}(Complex{Float64}[6.123233995736766e-17 + 0.0im, 0.0 + 0.0im, 0.0 + 0.0im, 0.0 + 0.0im, 1.0 + 0.0im, 0.0 + 0.0im, 0.0 + 0.0im, 0.0 + 0.0im, 0.0 + 0.0im, 0.0 + 0.0im  …  0.0 + 0.0im, 0.0 + 0.0im, 0.0 + 0.0im, 0.0 + 0.0im, 0.0 + 0.0im, 0.0 + 0.0im, 0.0 + 0.0im, 0.0 + 0.0im, 0.0 + 0.0im, 0.0 + 0.0im])                                                                                                                                                   \n",
       " StateVector{Complex{Float64}}(Complex{Float64}[3.749399456654644e-33 + 0.0im, 0.0 + 0.0im, 6.123233995736766e-17 + 0.0im, 0.0 + 0.0im, 6.123233995736766e-17 + 0.0im, 0.0 + 0.0im, 1.0 + 0.0im, 0.0 + 0.0im, 0.0 + 0.0im, 0.0 + 0.0im  …  0.0 + 0.0im, 0.0 + 0.0im, 0.0 + 0.0im, 0.0 + 0.0im, 0.0 + 0.0im, 0.0 + 0.0im, 0.0 + 0.0im, 0.0 + 0.0im, 0.0 + 0.0im, 0.0 + 0.0im])                                                                                                               \n",
       " StateVector{Complex{Float64}}(Complex{Float64}[6.123233995736766e-17 + 0.0im, 0.0 + 0.0im, 0.0 + 0.0im, 0.0 + 0.0im, 0.0 + 0.0im, 0.0 + 0.0im, 0.0 + 0.0im, 0.0 + 0.0im, 1.0 + 0.0im, 0.0 + 0.0im  …  0.0 + 0.0im, 0.0 + 0.0im, 0.0 + 0.0im, 0.0 + 0.0im, 0.0 + 0.0im, 0.0 + 0.0im, 0.0 + 0.0im, 0.0 + 0.0im, 0.0 + 0.0im, 0.0 + 0.0im])                                                                                                                                                   \n",
       " StateVector{Complex{Float64}}(Complex{Float64}[3.749399456654644e-33 + 0.0im, 0.0 + 0.0im, 0.0 + 0.0im, 0.0 + 0.0im, 6.123233995736766e-17 + 0.0im, 0.0 + 0.0im, 0.0 + 0.0im, 0.0 + 0.0im, 6.123233995736766e-17 + 0.0im, 0.0 + 0.0im  …  0.0 + 0.0im, 0.0 + 0.0im, 0.0 + 0.0im, 0.0 + 0.0im, 0.0 + 0.0im, 0.0 + 0.0im, 0.0 + 0.0im, 0.0 + 0.0im, 0.0 + 0.0im, 0.0 + 0.0im])                                                                                                               "
      ]
     },
     "execution_count": 23,
     "metadata": {},
     "output_type": "execute_result"
    }
   ],
   "source": [
    "data = [qstate(item) for item in cdata]"
   ]
  },
  {
   "cell_type": "code",
   "execution_count": 24,
   "metadata": {},
   "outputs": [],
   "source": [
    "initial_state = qstate(L)\n",
    "loss_born(x) = begin\n",
    "    r = 0.\n",
    "    for i in 1:length(data)\n",
    "        r += distance(data[i], x * initial_state)\n",
    "    end\n",
    "    return r/length(data)\n",
    "end\n",
    "\n",
    "circuit = QCircuit()\n",
    "for i in 1:L\n",
    "    push!(circuit, RyGate(i, Variable(randn())))\n",
    "end\n",
    "depth = 3\n",
    "for _ in 1:depth\n",
    "    for i in 1:(L-1)\n",
    "        push!(circuit, ((i, i+1), CNOT))\n",
    "    end\n",
    "    for i in 1:L\n",
    "       push!(circuit, RyGate(i, Variable(randn())))\n",
    "    end\n",
    "end\n",
    "for _ in 1:depth\n",
    "    for i in 1:(L-1)\n",
    "        push!(circuit, ((i, i+1), CNOT))\n",
    "    end\n",
    "    for i in 1:L\n",
    "       push!(circuit, RxGate(i, Variable(randn())))\n",
    "    end\n",
    "end"
   ]
  },
  {
   "cell_type": "code",
   "execution_count": 25,
   "metadata": {},
   "outputs": [
    {
     "name": "stdout",
     "output_type": "stream",
     "text": [
      "loss at step 50 is 1.3585249193774724\n",
      "loss at step 100 is 1.3257391575241875\n",
      "loss at step 150 is 1.29259893978278\n",
      "loss at step 200 is 1.2656446409502013\n",
      "loss at step 250 is 1.248173887118782\n",
      "loss at step 300 is 1.2358386698588066\n",
      "loss at step 350 is 1.226570315104271\n",
      "loss at step 400 is 1.2196950449518251\n",
      "loss at step 450 is 1.2141800512567895\n",
      "loss at step 500 is 1.209673770967432\n",
      "loss at step 550 is 1.2066673792039309\n",
      "loss at step 600 is 1.2043986987477078\n",
      "loss at step 650 is 1.202160445147671\n",
      "loss at step 700 is 1.2002967057462652\n",
      "loss at step 750 is 1.1984483607003473\n",
      "loss at step 800 is 1.1967305082510589\n",
      "loss at step 850 is 1.195048798167059\n",
      "loss at step 900 is 1.193241192578311\n",
      "loss at step 950 is 1.1913960448773546\n",
      "loss at step 1000 is 1.1895693503365468\n"
     ]
    },
    {
     "data": {
      "text/plain": [
       "35-element Array{Float64,1}:\n",
       "  0.40734075155733135  \n",
       " -2.5174647491529076   \n",
       " -0.4542438657016483   \n",
       "  0.32364231125500614  \n",
       "  0.4392689958527556   \n",
       " -1.2000713437446173   \n",
       " -0.34330606322627727  \n",
       "  1.739261550308194    \n",
       " -1.695209221271547    \n",
       " -0.6558694360676401   \n",
       " -2.0304158413168394   \n",
       "  0.22219142852594448  \n",
       " -1.0380597812773142   \n",
       "  ⋮                    \n",
       " -0.8977835939907461   \n",
       "  0.41584991822489237  \n",
       " -0.7825746935318773   \n",
       " -0.7775407163926025   \n",
       " -1.5671060157530219   \n",
       "  0.005298568478114499 \n",
       " -0.8730077233313533   \n",
       "  0.7823665324426946   \n",
       " -0.7789940460981043   \n",
       " -0.0012319370524381521\n",
       " -1.4607954940910395   \n",
       "  0.4616028040447341   "
      ]
     },
     "execution_count": 25,
     "metadata": {},
     "output_type": "execute_result"
    }
   ],
   "source": [
    "opt = ADAM()\n",
    "\n",
    "function train_born(epochs)\n",
    "    for i in 1:epochs\n",
    "        grad = collect_gradients(gradient(loss_born, circuit))\n",
    "        paras = parameters(circuit)\n",
    "        Optimise.update!(opt, paras, grad)\n",
    "        set_parameters!(paras, circuit)\n",
    "        if i % 50 == 0\n",
    "            println(\"loss at step $i is $(loss_born(circuit))\")\n",
    "        end\n",
    "    end\n",
    "    return parameters(circuit)\n",
    "end\n",
    "\n",
    "train_born(1000)"
   ]
  }
 ],
 "metadata": {
  "kernelspec": {
   "display_name": "Julia 1.2.0",
   "language": "julia",
   "name": "julia-1.2"
  },
  "language_info": {
   "file_extension": ".jl",
   "mimetype": "application/julia",
   "name": "julia",
   "version": "1.2.0"
  }
 },
 "nbformat": 4,
 "nbformat_minor": 2
}
